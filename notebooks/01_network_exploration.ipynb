{
 "cells": [
  {
   "cell_type": "markdown",
   "metadata": {},
   "source": [
    "# Network Exploration and Baseline Analysis\n",
    "\n",
    "This notebook performs exploratory data analysis (EDA) on the citation network and establishes baseline metrics for our TransE model. We'll examine:\n",
    "\n",
    "- Network structure and basic statistics\n",
    "- Node degrees, clustering, and centrality metrics\n",
    "- Visualization of the current citation network\n",
    "- Baseline analysis around the seed paper"
   ]
  },
  {
   "cell_type": "code",
   "execution_count": null,
   "metadata": {},
   "outputs": [],
   "source": [
    "# Import required libraries\n",
    "import sys\n",
    "sys.path.append('..')\n",
    "\n",
    "import pandas as pd\n",
    "import numpy as np\n",
    "import matplotlib.pyplot as plt\n",
    "import seaborn as sns\n",
    "import networkx as nx\n",
    "from dotenv import load_dotenv\n",
    "\n",
    "# Import our modules\n",
    "from src.db import Neo4jConnection\n",
    "from src.data_extraction import load_citation_graph\n",
    "from src.visualization import (\n",
    "    plot_network_overview, \n",
    "    plot_network_statistics,\n",
    "    set_portfolio_style\n",
    ")\n",
    "\n",
    "# Set up plotting style\n",
    "set_portfolio_style()\n",
    "load_dotenv()\n",
    "\n",
    "print(\"Libraries imported successfully!\")"
   ]
  },
  {
   "cell_type": "markdown",
   "metadata": {},
   "source": [
    "## 1. Connect to Neo4j Database"
   ]
  },
  {
   "cell_type": "code",
   "execution_count": null,
   "metadata": {},
   "outputs": [],
   "source": [
    "# Connect to Neo4j database\n",
    "try:\n",
    "    db = Neo4jConnection()\n",
    "    if db.test_connection():\n",
    "        print(\"✅ Successfully connected to Neo4j database\")\n",
    "    else:\n",
    "        print(\"❌ Failed to connect to Neo4j database\")\n",
    "        raise ConnectionError(\"Database connection failed\")\n",
    "except Exception as e:\n",
    "    print(f\"❌ Database connection error: {e}\")\n",
    "    print(\"\\nPlease check your .env file contains:\")\n",
    "    print(\"NEO4J_URI=neo4j+s://your-instance.databases.neo4j.io\")\n",
    "    print(\"NEO4J_USER=your-username\")\n",
    "    print(\"NEO4J_PWD=your-password\")\n",
    "    raise"
   ]
  },
  {
   "cell_type": "markdown",
   "metadata": {},
   "source": [
    "## 2. Extract Citation Network Data"
   ]
  },
  {
   "cell_type": "code",
   "execution_count": null,
   "metadata": {},
   "outputs": [],
   "source": [
    "# Load citation graph data\n",
    "print(\"Extracting citation network from Neo4j...\")\n",
    "extractor = load_citation_graph(db)\n",
    "\n",
    "print(f\"\\nDataset Overview:\")\n",
    "print(f\"• Papers: {extractor.num_entities:,}\")\n",
    "print(f\"• Citations: {len(extractor.citation_edges):,}\")\n",
    "print(f\"• Entity mapping size: {len(extractor.paper_to_id):,}\")"
   ]
  },
  {
   "cell_type": "markdown",
   "metadata": {},
   "source": [
    "## 3. Build NetworkX Graph for Analysis"
   ]
  },
  {
   "cell_type": "code",
   "execution_count": null,
   "metadata": {},
   "outputs": [],
   "source": [
    "# Build NetworkX graph\n",
    "print(\"Building NetworkX graph for analysis...\")\n",
    "G = extractor.build_networkx_graph()\n",
    "\n",
    "print(f\"\\nGraph Properties:\")\n",
    "print(f\"• Nodes: {G.number_of_nodes():,}\")\n",
    "print(f\"• Edges: {G.number_of_edges():,}\")\n",
    "print(f\"• Is directed: {G.is_directed()}\")\n",
    "print(f\"• Density: {nx.density(G):.6f}\")"
   ]
  },
  {
   "cell_type": "markdown",
   "metadata": {},
   "source": [
    "## 4. Comprehensive Network Statistics"
   ]
  },
  {
   "cell_type": "code",
   "execution_count": null,
   "metadata": {},
   "outputs": [],
   "source": [
    "# Get comprehensive dataset statistics\n",
    "print(\"Computing comprehensive network statistics...\")\n",
    "stats = extractor.get_dataset_stats()\n",
    "\n",
    "print(\"\\n📊 Network Statistics:\")\n",
    "print(\"=\" * 40)\n",
    "for key, value in stats.items():\n",
    "    if isinstance(value, float):\n",
    "        print(f\"{key:<25}: {value:.4f}\")\n",
    "    else:\n",
    "        print(f\"{key:<25}: {value}\")\n",
    "\n",
    "# Store stats for visualization\n",
    "network_stats = stats"
   ]
  },
  {
   "cell_type": "markdown",
   "metadata": {},
   "source": [
    "## 5. Node Degree Analysis"
   ]
  },
  {
   "cell_type": "code",
   "execution_count": null,
   "metadata": {},
   "outputs": [],
   "source": [
    "# Analyze degree distribution\n",
    "degrees = dict(G.degree())\n",
    "in_degrees = dict(G.in_degree())\n",
    "out_degrees = dict(G.out_degree())\n",
    "\n",
    "degree_df = pd.DataFrame({\n",
    "    'node_id': list(degrees.keys()),\n",
    "    'total_degree': list(degrees.values()),\n",
    "    'in_degree': list(in_degrees.values()),\n",
    "    'out_degree': list(out_degrees.values())\n",
    "})\n",
    "\n",
    "print(\"\\n📈 Degree Statistics:\")\n",
    "print(degree_df[['total_degree', 'in_degree', 'out_degree']].describe())"
   ]
  },
  {
   "cell_type": "code",
   "execution_count": null,
   "metadata": {},
   "outputs": [],
   "source": [
    "# Plot degree distributions\n",
    "fig, axes = plt.subplots(1, 3, figsize=(15, 5))\n",
    "\n",
    "# Total degree distribution\n",
    "axes[0].hist(degree_df['total_degree'], bins=30, alpha=0.7, color='skyblue', edgecolor='black')\n",
    "axes[0].set_xlabel('Total Degree')\n",
    "axes[0].set_ylabel('Frequency')\n",
    "axes[0].set_title('Total Degree Distribution', fontweight='bold')\n",
    "axes[0].grid(True, alpha=0.3)\n",
    "\n",
    "# In-degree distribution (citations received)\n",
    "axes[1].hist(degree_df['in_degree'], bins=30, alpha=0.7, color='lightcoral', edgecolor='black')\n",
    "axes[1].set_xlabel('In-Degree (Citations Received)')\n",
    "axes[1].set_ylabel('Frequency')\n",
    "axes[1].set_title('In-Degree Distribution', fontweight='bold')\n",
    "axes[1].grid(True, alpha=0.3)\n",
    "\n",
    "# Out-degree distribution (citations given)\n",
    "axes[2].hist(degree_df['out_degree'], bins=30, alpha=0.7, color='lightgreen', edgecolor='black')\n",
    "axes[2].set_xlabel('Out-Degree (Citations Given)')\n",
    "axes[2].set_ylabel('Frequency')\n",
    "axes[2].set_title('Out-Degree Distribution', fontweight='bold')\n",
    "axes[2].grid(True, alpha=0.3)\n",
    "\n",
    "plt.tight_layout()\n",
    "plt.savefig('../outputs/degree_distributions.png', dpi=300, bbox_inches='tight')\n",
    "plt.show()"
   ]
  },
  {
   "cell_type": "markdown",
   "metadata": {},
   "source": [
    "## 6. Identify High-Impact Papers"
   ]
  },
  {
   "cell_type": "code",
   "execution_count": null,
   "metadata": {},
   "outputs": [],
   "source": [
    "# Find most highly cited papers (high in-degree)\n",
    "top_cited = degree_df.nlargest(10, 'in_degree')\n",
    "\n",
    "print(\"\\n🏆 Top 10 Most Cited Papers (by in-degree):\")\n",
    "print(\"=\" * 50)\n",
    "for idx, row in top_cited.iterrows():\n",
    "    node_id = row['node_id']\n",
    "    paper_id = extractor.id_to_paper.get(node_id, 'Unknown')\n",
    "    title = G.nodes[node_id].get('title', 'No title')[:80]\n",
    "    citations = row['in_degree']\n",
    "    print(f\"{citations:2d} citations: {title}...\")\n",
    "\n",
    "print(\"\\n🔗 Top 10 Papers by Citations Given (out-degree):\")\n",
    "print(\"=\" * 50)\n",
    "top_citing = degree_df.nlargest(10, 'out_degree')\n",
    "for idx, row in top_citing.iterrows():\n",
    "    node_id = row['node_id']\n",
    "    paper_id = extractor.id_to_paper.get(node_id, 'Unknown')\n",
    "    title = G.nodes[node_id].get('title', 'No title')[:80]\n",
    "    citations_given = row['out_degree']\n",
    "    print(f\"{citations_given:2d} refs: {title}...\")"
   ]
  },
  {
   "cell_type": "markdown",
   "metadata": {},
   "source": [
    "## 7. Network Visualization"
   ]
  },
  {
   "cell_type": "code",
   "execution_count": null,
   "metadata": {},
   "outputs": [],
   "source": [
    "# Create network overview visualization\n",
    "print(\"Creating network overview visualization...\")\n",
    "\n",
    "# For visualization, sample a subset if network is too large\n",
    "if G.number_of_nodes() > 200:\n",
    "    # Sample high-degree nodes for visualization\n",
    "    high_degree_nodes = degree_df.nlargest(100, 'total_degree')['node_id'].tolist()\n",
    "    medium_degree_nodes = degree_df[\n",
    "        (degree_df['total_degree'] >= 3) & \n",
    "        (~degree_df['node_id'].isin(high_degree_nodes))\n",
    "    ].sample(n=min(100, len(degree_df)-100), random_state=42)['node_id'].tolist()\n",
    "    \n",
    "    viz_nodes = high_degree_nodes + medium_degree_nodes\n",
    "    G_viz = G.subgraph(viz_nodes).copy()\n",
    "    print(f\"Visualizing subset: {G_viz.number_of_nodes()} nodes, {G_viz.number_of_edges()} edges\")\n",
    "else:\n",
    "    G_viz = G\n",
    "    print(f\"Visualizing full network: {G_viz.number_of_nodes()} nodes\")\n",
    "\n",
    "# Create and save network overview\n",
    "fig = plot_network_overview(\n",
    "    G_viz, \n",
    "    title=\"Citation Network Overview\",\n",
    "    figsize=(14, 8),\n",
    "    save_path=\"../outputs/network_overview.png\"\n",
    ")\n",
    "plt.show()"
   ]
  },
  {
   "cell_type": "markdown",
   "metadata": {},
   "source": [
    "## 8. Network Statistics Visualization"
   ]
  },
  {
   "cell_type": "code",
   "execution_count": null,
   "metadata": {},
   "outputs": [],
   "source": [
    "# Create comprehensive statistics visualization\n",
    "fig = plot_network_statistics(\n",
    "    network_stats,\n",
    "    figsize=(16, 10),\n",
    "    save_path=\"../outputs/network_statistics.png\"\n",
    ")\n",
    "plt.show()"
   ]
  },
  {
   "cell_type": "markdown",
   "metadata": {},
   "source": [
    "## 9. Paper Metadata Analysis"
   ]
  },
  {
   "cell_type": "code",
   "execution_count": null,
   "metadata": {},
   "outputs": [],
   "source": [
    "# Get detailed paper metadata\n",
    "print(\"Loading paper metadata...\")\n",
    "try:\n",
    "    metadata_df = extractor.get_paper_metadata()\n",
    "    print(f\"Loaded metadata for {len(metadata_df)} papers\")\n",
    "    \n",
    "    # Display sample metadata\n",
    "    print(\"\\nSample Paper Metadata:\")\n",
    "    print(metadata_df.head())\n",
    "    \n",
    "    # Citation count analysis\n",
    "    if 'citations' in metadata_df.columns:\n",
    "        citation_stats = metadata_df['citations'].describe()\n",
    "        print(\"\\n📊 Citation Count Statistics:\")\n",
    "        print(citation_stats)\n",
    "        \n",
    "except Exception as e:\n",
    "    print(f\"Could not load metadata: {e}\")\n",
    "    metadata_df = pd.DataFrame()"
   ]
  },
  {
   "cell_type": "markdown",
   "metadata": {},
   "source": [
    "## 10. Summary and Key Insights"
   ]
  },
  {
   "cell_type": "code",
   "execution_count": null,
   "metadata": {},
   "outputs": [],
   "source": [
    "# Generate comprehensive summary\n",
    "print(\"\\n\" + \"=\"*60)\n",
    "print(\"📋 NETWORK EXPLORATION SUMMARY\")\n",
    "print(\"=\"*60)\n",
    "\n",
    "print(f\"\\n🔢 Scale:\")\n",
    "print(f\"   • {network_stats['num_papers']:,} papers in the network\")\n",
    "print(f\"   • {network_stats['num_citations']:,} citation relationships\")\n",
    "print(f\"   • {network_stats['density']:.6f} network density\")\n",
    "\n",
    "print(f\"\\n🔗 Connectivity:\")\n",
    "print(f\"   • {'Connected' if network_stats['is_connected'] else 'Not fully connected'}\")\n",
    "print(f\"   • {network_stats['num_components']} connected components\")\n",
    "print(f\"   • {network_stats['avg_degree']:.2f} average degree\")\n",
    "\n",
    "if 'avg_path_length' in network_stats:\n",
    "    print(f\"\\n📏 Structure:\")\n",
    "    print(f\"   • {network_stats['avg_path_length']:.2f} average path length\")\n",
    "    print(f\"   • {network_stats['clustering_coefficient']:.4f} clustering coefficient\")\n",
    "\n",
    "print(f\"\\n📈 Degree Distribution:\")\n",
    "print(f\"   • Max in-degree (most cited): {degree_df['in_degree'].max()}\")\n",
    "print(f\"   • Max out-degree (most refs): {degree_df['out_degree'].max()}\")\n",
    "print(f\"   • Mean degree: {degree_df['total_degree'].mean():.2f}\")\n",
    "\n",
    "print(f\"\\n🎯 Next Steps for TransE Model:\")\n",
    "print(f\"   • Network is suitable for link prediction with {len(extractor.citation_edges):,} positive examples\")\n",
    "print(f\"   • Can generate negative samples from {extractor.num_entities * (extractor.num_entities-1) - len(extractor.citation_edges):,} non-citations\")\n",
    "print(f\"   • Embedding dimension should capture the network's complexity\")\n",
    "\n",
    "print(f\"\\n💾 Files saved:\")\n",
    "print(f\"   • ../outputs/network_overview.png\")\n",
    "print(f\"   • ../outputs/network_statistics.png\")\n",
    "print(f\"   • ../outputs/degree_distributions.png\")\n",
    "\n",
    "print(\"\\n✅ Network exploration complete! Ready for model training.\")"
   ]
  },
  {
   "cell_type": "code",
   "execution_count": null,
   "metadata": {},
   "outputs": [],
   "source": [
    "# Clean up database connection\n",
    "db.close()\n",
    "print(\"Database connection closed.\")"
   ]
  }
 ],
 "metadata": {
  "kernelspec": {
   "display_name": "Python 3",
   "language": "python",
   "name": "python3"
  },
  "language_info": {
   "codemirror_mode": {
    "name": "ipython",
    "version": 3
   },
   "file_extension": ".py",
   "mimetype": "text/x-python",
   "name": "python",
   "nbconvert_exporter": "python",
   "pygments_lexer": "ipython3",
   "version": "3.10.0"
  }
 },
 "nbformat": 4,
 "nbformat_minor": 4
}